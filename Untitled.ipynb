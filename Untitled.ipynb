{
 "cells": [
  {
   "cell_type": "code",
   "execution_count": 3,
   "id": "7a555b2e-0928-423d-ac54-25cdacc6f691",
   "metadata": {},
   "outputs": [],
   "source": [
    "\n",
    "from novacula.api import Dataset, set_session_api\n",
    "\n",
    "user='joao.pinto'\n",
    "token = \"\"\n",
    "\n",
    "set_session_api(\"http://localhost:7000\", user,token)\n",
    "dataset  = Dataset( \"user.joao.pinto.my_first_dataset\")\n"
   ]
  },
  {
   "cell_type": "code",
   "execution_count": null,
   "id": "39d04449-bc62-4001-b35c-28d839099939",
   "metadata": {},
   "outputs": [],
   "source": []
  }
 ],
 "metadata": {
  "kernelspec": {
   "display_name": "Python 3 (ipykernel)",
   "language": "python",
   "name": "python3"
  },
  "language_info": {
   "codemirror_mode": {
    "name": "ipython",
    "version": 3
   },
   "file_extension": ".py",
   "mimetype": "text/x-python",
   "name": "python",
   "nbconvert_exporter": "python",
   "pygments_lexer": "ipython3",
   "version": "3.9.2"
  }
 },
 "nbformat": 4,
 "nbformat_minor": 5
}
