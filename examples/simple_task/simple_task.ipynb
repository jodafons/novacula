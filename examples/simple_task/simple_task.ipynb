{
 "cells": [
  {
   "cell_type": "markdown",
   "id": "89b79565-75e8-4bdf-89a3-b2f9cd7c2e97",
   "metadata": {},
   "source": [
    "# Simple Task"
   ]
  },
  {
   "cell_type": "code",
   "execution_count": 31,
   "id": "b9e07cd2-a387-4b28-896d-591affa5e893",
   "metadata": {},
   "outputs": [
    {
     "name": "stdout",
     "output_type": "stream",
     "text": [
      "The autoreload extension is already loaded. To reload it, use:\n",
      "  %reload_ext autoreload\n"
     ]
    }
   ],
   "source": [
    "%config InlineBackend.figure_format = 'retina'\n",
    "%load_ext autoreload\n",
    "%autoreload 2"
   ]
  },
  {
   "cell_type": "code",
   "execution_count": 1,
   "id": "6da9d99a-391e-4c89-a30e-62c7562a1bce",
   "metadata": {},
   "outputs": [],
   "source": [
    "import os, json\n",
    "from maestro.api import APIClient, Provider\n",
    "from maestro.api import Dataset, Image, Task, Group\n",
    "from maestro.schemas import TaskInputs"
   ]
  },
  {
   "cell_type": "code",
   "execution_count": 2,
   "id": "eb4c4ce4-1e46-41ef-8693-23efe38d49e2",
   "metadata": {},
   "outputs": [],
   "source": [
    "token=\"fcad6b3734b74e7e901c58903dc416f8c5029cf224714f518f3f04ac379d7b7a\"\n",
    "host=\"http://caloba51.lps.ufrj.br:7000\"\n",
    "basepath = os.getcwd()"
   ]
  },
  {
   "cell_type": "markdown",
   "id": "6d96e340-4e9c-416d-96b4-212d7994e942",
   "metadata": {},
   "source": [
    "## Create remote session:"
   ]
  },
  {
   "cell_type": "code",
   "execution_count": 5,
   "id": "52266cd8-30a1-48a1-9372-3f9d4cc20adf",
   "metadata": {},
   "outputs": [],
   "source": [
    "provider = Provider(host=host, token=token)"
   ]
  },
  {
   "cell_type": "markdown",
   "id": "3b6cb87c-ee1d-4cde-bab1-1a6f24129641",
   "metadata": {},
   "source": [
    "## create the dataset:"
   ]
  },
  {
   "cell_type": "code",
   "execution_count": 6,
   "id": "43a4cb83-0d26-44b8-a931-174f54158282",
   "metadata": {},
   "outputs": [],
   "source": [
    "def create_dataset(path, n):\n",
    "    os.makedirs(path, exist_ok=True)\n",
    "    for i in range(n):\n",
    "        with open(f\"{path}/{i}.json\",'w') as f:\n",
    "            d={'a':i*10,'b':i*2}\n",
    "            json.dump(d,f)\n",
    "            \n",
    "create_dataset(basepath+\"/jobs\" , 10)"
   ]
  },
  {
   "cell_type": "code",
   "execution_count": 7,
   "id": "e78ea50e-c913-44ea-8789-bb7d2ef5cea7",
   "metadata": {},
   "outputs": [],
   "source": [
    "dataset = Dataset(name=\"user.joao.pinto.dataset\")"
   ]
  },
  {
   "cell_type": "code",
   "execution_count": 8,
   "id": "d4aa6bfc-7cd1-4e18-b5b4-f3015afccf98",
   "metadata": {},
   "outputs": [
    {
     "name": "stderr",
     "output_type": "stream",
     "text": [
      "\u001b[32m2025-03-24 15:16:04.397\u001b[0m | \u001b[34m\u001b[1mDEBUG   \u001b[0m | \u001b[36mmaestro.api.rest.dataset\u001b[0m:\u001b[36mcreate\u001b[0m:\u001b[36m104\u001b[0m - \u001b[34m\u001b[1mReceived dataset_id: 6468a74db763\u001b[0m\n"
     ]
    },
    {
     "data": {
      "text/plain": [
       "'6468a74db763'"
      ]
     },
     "execution_count": 8,
     "metadata": {},
     "output_type": "execute_result"
    }
   ],
   "source": [
    "dataset.create()"
   ]
  },
  {
   "cell_type": "code",
   "execution_count": 9,
   "id": "41532b12-c2ee-4294-934c-3a6bad67c572",
   "metadata": {},
   "outputs": [
    {
     "name": "stderr",
     "output_type": "stream",
     "text": [
      "uploading file...: 100%|████████████████████████████████████████████| 10/10 [00:00<00:00, 10.52it/s]\n"
     ]
    },
    {
     "data": {
      "text/plain": [
       "True"
      ]
     },
     "execution_count": 9,
     "metadata": {},
     "output_type": "execute_result"
    }
   ],
   "source": [
    "dataset.upload(basepath+\"/jobs\",as_link=True)"
   ]
  },
  {
   "cell_type": "code",
   "execution_count": 10,
   "id": "f71e4bbe-990b-476e-beec-7b03c92eb3b4",
   "metadata": {},
   "outputs": [
    {
     "name": "stdout",
     "output_type": "stream",
     "text": [
      "Dataset name : user.joao.pinto.dataset\n",
      "dataset id   : 6468a74db763\n",
      "+------------+----------------------------------+\n",
      "| filename   | md5                              |\n",
      "|------------+----------------------------------|\n",
      "| 8.json     | c5fdd711b31fa54e8d68dda7e28b5a55 |\n",
      "| 5.json     | 5158084def9716b1861a32e778de5665 |\n",
      "| 4.json     | 48a462caf5f9f036054c3d5bb30ac195 |\n",
      "| 1.json     | c2b86c9b4033debbeec4b497a45734c1 |\n",
      "| 3.json     | 664d74949c77a3bfce4a8ac95244c1f8 |\n",
      "| 0.json     | 7f9fb369851609ce9cb91404549393f3 |\n",
      "| 6.json     | 94e517ae388d646047a203ecab9952f0 |\n",
      "| 2.json     | da03619f5a6b5195ce248f24c0eddd64 |\n",
      "| 9.json     | eee20f56e7111321d839c75dbaac54c1 |\n",
      "| 7.json     | 42fd321dda1be4cb510182aab78263bc |\n",
      "+------------+----------------------------------+\n"
     ]
    }
   ],
   "source": [
    "dataset.print()"
   ]
  },
  {
   "cell_type": "markdown",
   "id": "2d4ecfe2-2868-4b6d-bf50-ed9029471f66",
   "metadata": {},
   "source": [
    "## Create the image:"
   ]
  },
  {
   "cell_type": "code",
   "execution_count": 11,
   "id": "7f8cac18-3631-49c6-8e68-c2eb916dee0b",
   "metadata": {},
   "outputs": [],
   "source": [
    "image = Image(\"joao.pinto/python3.10\", basepath+\"/python3.10.sif\", as_link=True)"
   ]
  },
  {
   "cell_type": "markdown",
   "id": "546f28f1-33a0-4ef8-8298-faa95d6e323d",
   "metadata": {},
   "source": [
    "## Create the task:"
   ]
  },
  {
   "cell_type": "code",
   "execution_count": 12,
   "id": "14bded9f-94a4-457c-abd4-f29a9ff82151",
   "metadata": {},
   "outputs": [],
   "source": [
    "task = TaskInputs( name=\"user.joao.pinto.simple_task3\", image='joao.pinto/python3.10' )\n",
    "task.input   = dataset.name\n",
    "task.command = \"python /app.py -j %IN -o %OUT\"\n",
    "task.outputs = {\"OUT\":'result.json'}\n",
    "task.envs    = {}\n",
    "task.partition = \"cpu-large\""
   ]
  },
  {
   "cell_type": "code",
   "execution_count": 14,
   "id": "6e21a749-93c5-4070-8013-c588cfd31465",
   "metadata": {},
   "outputs": [],
   "source": [
    "my_task=provider.create(task)"
   ]
  },
  {
   "cell_type": "code",
   "execution_count": 19,
   "id": "76447a09-fb7b-420d-88a6-24156318595d",
   "metadata": {},
   "outputs": [
    {
     "name": "stdout",
     "output_type": "stream",
     "text": [
      "+------------------------------+--------------+------------+-----------+-----------+----------+--------+----------+----------+-------------+-----------+\n",
      "| taskname                     |   registered |   assigned |   pending |   running |   failed |   kill |   killed |   broken |   completed | Status    |\n",
      "|------------------------------+--------------+------------+-----------+-----------+----------+--------+----------+----------+-------------+-----------|\n",
      "| user.joao.pinto.simple_task3 |            0 |          0 |         0 |         0 |        0 |      0 |        0 |        0 |          10 | completed |\n",
      "+------------------------------+--------------+------------+-----------+-----------+----------+--------+----------+----------+-------------+-----------+\n"
     ]
    }
   ],
   "source": [
    "my_task.print()"
   ]
  },
  {
   "cell_type": "code",
   "execution_count": 20,
   "id": "ae31dbaa-ceb7-48ac-a609-70b31458e71a",
   "metadata": {},
   "outputs": [
    {
     "name": "stdout",
     "output_type": "stream",
     "text": [
      "+--------------+------------------------------------------+---------+--------+\n",
      "| id           | name                                     |   files | type   |\n",
      "|--------------+------------------------------------------+---------+--------|\n",
      "| 6468a74db763 | user.joao.pinto.dataset                  |      10 | files  |\n",
      "| 55f87ba95f53 | joao.pinto/python3.10                    |       1 | image  |\n",
      "| 4bf61d1215df | user.joao.pinto.simple_task3.result.json |      10 | files  |\n",
      "+--------------+------------------------------------------+---------+--------+\n"
     ]
    }
   ],
   "source": [
    "provider.print_datasets()"
   ]
  },
  {
   "cell_type": "code",
   "execution_count": 21,
   "id": "50ff9b2d-9227-48d8-834f-1a671ef9aaf3",
   "metadata": {},
   "outputs": [
    {
     "name": "stdout",
     "output_type": "stream",
     "text": [
      "+--------------+------------------------------+-----------+\n",
      "| id           | name                         | type      |\n",
      "|--------------+------------------------------+-----------|\n",
      "| 0f789a0f2c04 | user.joao.pinto.simple_task3 | completed |\n",
      "+--------------+------------------------------+-----------+\n"
     ]
    }
   ],
   "source": [
    "provider.print_tasks()"
   ]
  },
  {
   "cell_type": "code",
   "execution_count": null,
   "id": "f644261b-7d63-4ff5-bcfc-48600fa4e669",
   "metadata": {},
   "outputs": [],
   "source": []
  }
 ],
 "metadata": {
  "kernelspec": {
   "display_name": "Python 3 (ipykernel)",
   "language": "python",
   "name": "python3"
  },
  "language_info": {
   "codemirror_mode": {
    "name": "ipython",
    "version": 3
   },
   "file_extension": ".py",
   "mimetype": "text/x-python",
   "name": "python",
   "nbconvert_exporter": "python",
   "pygments_lexer": "ipython3",
   "version": "3.9.2"
  }
 },
 "nbformat": 4,
 "nbformat_minor": 5
}
